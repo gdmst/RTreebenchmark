{
 "cells": [
  {
   "cell_type": "code",
   "execution_count": 3,
   "id": "9e8eadd2-5e78-4584-abbc-a142e8c39d61",
   "metadata": {},
   "outputs": [],
   "source": [
    "original_path = \"datasets/merged.csv\"\n",
    "filtered_path = \"datasets/merged_filtered.csv\"\n",
    "\n",
    "original = open(original_path)\n",
    "filtered = open(filtered_path, \"w\") #17622266\n",
    "\n",
    "MIN_LG, MAX_LG = 73.652344, 134.824219\n",
    "MIN_LT, MAX_LT = 21.289374, 53.956086\n",
    "\n",
    "for line in original:\n",
    "    id, t, lg, lt = line.split(\",\")\n",
    "    if float(lt) > MIN_LT and float(lt) < MAX_LT and float(lg) > MIN_LG and float(lg) < MAX_LG:\n",
    "        filtered.write(line)\n"
   ]
  },
  {
   "cell_type": "code",
   "execution_count": null,
   "id": "a86baa1c-cece-46ab-8476-5e61d81927fe",
   "metadata": {},
   "outputs": [],
   "source": []
  }
 ],
 "metadata": {
  "kernelspec": {
   "display_name": "Python 3 (ipykernel)",
   "language": "python",
   "name": "python3"
  },
  "language_info": {
   "codemirror_mode": {
    "name": "ipython",
    "version": 3
   },
   "file_extension": ".py",
   "mimetype": "text/x-python",
   "name": "python",
   "nbconvert_exporter": "python",
   "pygments_lexer": "ipython3",
   "version": "3.11.9"
  }
 },
 "nbformat": 4,
 "nbformat_minor": 5
}
