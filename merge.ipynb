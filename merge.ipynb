{
 "cells": [
  {
   "cell_type": "code",
   "execution_count": 3,
   "id": "7b932724-93d0-4d47-ad01-3be419318ed0",
   "metadata": {},
   "outputs": [],
   "source": [
    "import os\n",
    "import time\n",
    "import datetime\n",
    "\n",
    "folder_path = \"datasets/T_drive/\"\n",
    "merge_path = \"datasets/merged.csv\" \n",
    "# merged 17662799, 4\n",
    "# filtered 17622266\n",
    "\n",
    "merged_file = open(merge_path, \"w\")\n",
    "\n",
    "for filename in os.listdir(folder_path):\n",
    "    if filename[-4:] == \".txt\":\n",
    "        logfile = open(folder_path + filename)\n",
    "        for line in logfile:\n",
    "            t = line.split(\",\")\n",
    "            ut = time.mktime(datetime.datetime.strptime(t[1], \"%Y-%m-%d %H:%M:%S\").timetuple())\n",
    "            merged_file.write(f\"{t[0]},{int(ut)},{t[2]},{t[3]}\")\n"
   ]
  },
  {
   "cell_type": "code",
   "execution_count": null,
   "id": "5c51e57f-95a0-4f78-b055-9d354bb0e595",
   "metadata": {},
   "outputs": [],
   "source": []
  }
 ],
 "metadata": {
  "kernelspec": {
   "display_name": "Python 3 (ipykernel)",
   "language": "python",
   "name": "python3"
  },
  "language_info": {
   "codemirror_mode": {
    "name": "ipython",
    "version": 3
   },
   "file_extension": ".py",
   "mimetype": "text/x-python",
   "name": "python",
   "nbconvert_exporter": "python",
   "pygments_lexer": "ipython3",
   "version": "3.11.9"
  }
 },
 "nbformat": 4,
 "nbformat_minor": 5
}
