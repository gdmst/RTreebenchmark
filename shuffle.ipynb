{
 "cells": [
  {
   "cell_type": "code",
   "execution_count": 24,
   "id": "5efc277b-8de5-44f5-817f-609af1188594",
   "metadata": {},
   "outputs": [],
   "source": [
    "import random\n",
    "import pandas as pd\n",
    "import os\n",
    "original_path = \"datasets/merged_filtered.csv\"\n",
    "dataset = pd.read_csv(original_path, header=None)\n"
   ]
  },
  {
   "cell_type": "code",
   "execution_count": 25,
   "id": "b9b80978-8c6a-4166-a6d8-cb105f999e9e",
   "metadata": {},
   "outputs": [
    {
     "data": {
      "text/plain": [
       "(17622266, 4)"
      ]
     },
     "execution_count": 25,
     "metadata": {},
     "output_type": "execute_result"
    }
   ],
   "source": [
    "dataset.shape"
   ]
  },
  {
   "cell_type": "code",
   "execution_count": 27,
   "id": "585a58f3-ccbd-4ce6-abd9-298748ef1437",
   "metadata": {},
   "outputs": [
    {
     "data": {
      "text/html": [
       "<div>\n",
       "<style scoped>\n",
       "    .dataframe tbody tr th:only-of-type {\n",
       "        vertical-align: middle;\n",
       "    }\n",
       "\n",
       "    .dataframe tbody tr th {\n",
       "        vertical-align: top;\n",
       "    }\n",
       "\n",
       "    .dataframe thead th {\n",
       "        text-align: right;\n",
       "    }\n",
       "</style>\n",
       "<table border=\"1\" class=\"dataframe\">\n",
       "  <thead>\n",
       "    <tr style=\"text-align: right;\">\n",
       "      <th></th>\n",
       "      <th>0</th>\n",
       "      <th>1</th>\n",
       "      <th>2</th>\n",
       "      <th>3</th>\n",
       "    </tr>\n",
       "  </thead>\n",
       "  <tbody>\n",
       "    <tr>\n",
       "      <th>0</th>\n",
       "      <td>3644</td>\n",
       "      <td>1201981259</td>\n",
       "      <td>116.37497</td>\n",
       "      <td>39.85789</td>\n",
       "    </tr>\n",
       "    <tr>\n",
       "      <th>1</th>\n",
       "      <td>3644</td>\n",
       "      <td>1201981331</td>\n",
       "      <td>116.37542</td>\n",
       "      <td>39.85764</td>\n",
       "    </tr>\n",
       "    <tr>\n",
       "      <th>2</th>\n",
       "      <td>3644</td>\n",
       "      <td>1201981369</td>\n",
       "      <td>116.37727</td>\n",
       "      <td>39.85775</td>\n",
       "    </tr>\n",
       "    <tr>\n",
       "      <th>3</th>\n",
       "      <td>3644</td>\n",
       "      <td>1201981379</td>\n",
       "      <td>116.37746</td>\n",
       "      <td>39.85787</td>\n",
       "    </tr>\n",
       "    <tr>\n",
       "      <th>4</th>\n",
       "      <td>3644</td>\n",
       "      <td>1201981440</td>\n",
       "      <td>116.37749</td>\n",
       "      <td>39.85817</td>\n",
       "    </tr>\n",
       "  </tbody>\n",
       "</table>\n",
       "</div>"
      ],
      "text/plain": [
       "      0           1          2         3\n",
       "0  3644  1201981259  116.37497  39.85789\n",
       "1  3644  1201981331  116.37542  39.85764\n",
       "2  3644  1201981369  116.37727  39.85775\n",
       "3  3644  1201981379  116.37746  39.85787\n",
       "4  3644  1201981440  116.37749  39.85817"
      ]
     },
     "execution_count": 27,
     "metadata": {},
     "output_type": "execute_result"
    }
   ],
   "source": [
    "dataset.head()"
   ]
  },
  {
   "cell_type": "code",
   "execution_count": 28,
   "id": "faf3f45d-b242-459e-bd80-31006a160151",
   "metadata": {},
   "outputs": [],
   "source": [
    "dataset.columns = ['id', 'timestamp', 'longitude', 'lattitude']"
   ]
  },
  {
   "cell_type": "code",
   "execution_count": 29,
   "id": "0bf11a36-1d4d-4013-bba7-5c6621548d0b",
   "metadata": {},
   "outputs": [],
   "source": [
    "shuffled_df = dataset.sample(frac=1).reset_index(drop=True)"
   ]
  },
  {
   "cell_type": "code",
   "execution_count": 30,
   "id": "d3e7ae72-6aab-424d-af16-7c40b5c160f3",
   "metadata": {},
   "outputs": [
    {
     "data": {
      "text/html": [
       "<div>\n",
       "<style scoped>\n",
       "    .dataframe tbody tr th:only-of-type {\n",
       "        vertical-align: middle;\n",
       "    }\n",
       "\n",
       "    .dataframe tbody tr th {\n",
       "        vertical-align: top;\n",
       "    }\n",
       "\n",
       "    .dataframe thead th {\n",
       "        text-align: right;\n",
       "    }\n",
       "</style>\n",
       "<table border=\"1\" class=\"dataframe\">\n",
       "  <thead>\n",
       "    <tr style=\"text-align: right;\">\n",
       "      <th></th>\n",
       "      <th>id</th>\n",
       "      <th>timestamp</th>\n",
       "      <th>longitude</th>\n",
       "      <th>lattitude</th>\n",
       "    </tr>\n",
       "  </thead>\n",
       "  <tbody>\n",
       "    <tr>\n",
       "      <th>0</th>\n",
       "      <td>4798</td>\n",
       "      <td>1202211480</td>\n",
       "      <td>116.34337</td>\n",
       "      <td>39.93422</td>\n",
       "    </tr>\n",
       "    <tr>\n",
       "      <th>1</th>\n",
       "      <td>9037</td>\n",
       "      <td>1202306255</td>\n",
       "      <td>116.32060</td>\n",
       "      <td>39.90038</td>\n",
       "    </tr>\n",
       "    <tr>\n",
       "      <th>2</th>\n",
       "      <td>8160</td>\n",
       "      <td>1202111253</td>\n",
       "      <td>116.43771</td>\n",
       "      <td>39.93977</td>\n",
       "    </tr>\n",
       "    <tr>\n",
       "      <th>3</th>\n",
       "      <td>8998</td>\n",
       "      <td>1202487964</td>\n",
       "      <td>116.33512</td>\n",
       "      <td>39.88810</td>\n",
       "    </tr>\n",
       "    <tr>\n",
       "      <th>4</th>\n",
       "      <td>7195</td>\n",
       "      <td>1202116722</td>\n",
       "      <td>116.34712</td>\n",
       "      <td>39.98520</td>\n",
       "    </tr>\n",
       "  </tbody>\n",
       "</table>\n",
       "</div>"
      ],
      "text/plain": [
       "     id   timestamp  longitude  lattitude\n",
       "0  4798  1202211480  116.34337   39.93422\n",
       "1  9037  1202306255  116.32060   39.90038\n",
       "2  8160  1202111253  116.43771   39.93977\n",
       "3  8998  1202487964  116.33512   39.88810\n",
       "4  7195  1202116722  116.34712   39.98520"
      ]
     },
     "execution_count": 30,
     "metadata": {},
     "output_type": "execute_result"
    }
   ],
   "source": [
    "shuffled_df.head()"
   ]
  },
  {
   "cell_type": "code",
   "execution_count": 31,
   "id": "9a18445e-b267-4a61-9345-ab6afa1a9dcc",
   "metadata": {},
   "outputs": [
    {
     "data": {
      "text/plain": [
       "(17622266, 4)"
      ]
     },
     "execution_count": 31,
     "metadata": {},
     "output_type": "execute_result"
    }
   ],
   "source": [
    "shuffled_df.shape"
   ]
  },
  {
   "cell_type": "code",
   "execution_count": 32,
   "id": "6e9561a0-d538-4ac3-bd2c-84008d2d305c",
   "metadata": {},
   "outputs": [],
   "source": [
    "\n",
    "shuffled_path = \"datasets/t_drive_merged_filtered_shuffled.csv\"\n"
   ]
  },
  {
   "cell_type": "code",
   "execution_count": 35,
   "id": "f3d637af-d060-45b5-a4e4-868dbe808654",
   "metadata": {},
   "outputs": [],
   "source": [
    "shuffled_df.to_csv(shuffled_path)"
   ]
  },
  {
   "cell_type": "code",
   "execution_count": null,
   "id": "76de03f4-cea8-43d5-9d74-80edb7c93432",
   "metadata": {},
   "outputs": [],
   "source": []
  }
 ],
 "metadata": {
  "kernelspec": {
   "display_name": "Python 3 (ipykernel)",
   "language": "python",
   "name": "python3"
  },
  "language_info": {
   "codemirror_mode": {
    "name": "ipython",
    "version": 3
   },
   "file_extension": ".py",
   "mimetype": "text/x-python",
   "name": "python",
   "nbconvert_exporter": "python",
   "pygments_lexer": "ipython3",
   "version": "3.11.9"
  }
 },
 "nbformat": 4,
 "nbformat_minor": 5
}
